{
 "cells": [
  {
   "cell_type": "code",
   "execution_count": 1,
   "id": "25cd8529",
   "metadata": {},
   "outputs": [
    {
     "name": "stdout",
     "output_type": "stream",
     "text": [
      "[2024-06-29 05:12:02,957] [INFO] [real_accelerator.py:133:get_accelerator] Setting ds_accelerator to cuda (auto detect)\n"
     ]
    }
   ],
   "source": [
    "import numpy as np\n",
    "import pandas as pd\n",
    "import torch\n",
    "import torch.nn.functional as F\n",
    "from torch.utils.data import Dataset, DataLoader, RandomSampler, SequentialSampler\n",
    "import os\n",
    "\n",
    "# Importing the T5 modules from huggingface/transformers\n",
    "from transformers import AutoTokenizer, T5Tokenizer, T5ForConditionalGeneration, BartTokenizer, BartForConditionalGeneration"
   ]
  },
  {
   "cell_type": "code",
   "execution_count": 2,
   "id": "f1e45822",
   "metadata": {},
   "outputs": [],
   "source": [
    "class PredictDataset(Dataset):\n",
    "\n",
    "    def __init__(self, sentences, tokenizer, source_len):\n",
    "        self.tokenizer = tokenizer\n",
    "        self.source_len = source_len\n",
    "        self.ctext = sentences  # self.data.ctext\n",
    "\n",
    "    def __len__(self):\n",
    "        return len(self.ctext)\n",
    "\n",
    "    def __getitem__(self, index):\n",
    "        ctext = str(self.ctext[index])\n",
    "        ctext = ' '.join(ctext.split())\n",
    "\n",
    "        source = self.tokenizer.batch_encode_plus([ctext], max_length=self.source_len, pad_to_max_length=True,\n",
    "                                                  return_tensors='pt', truncation=True)\n",
    "        source_ids = source['input_ids'].squeeze()\n",
    "        source_mask = source['attention_mask'].squeeze()\n",
    "        return {\n",
    "            'source_ids': source_ids.to(dtype=torch.long),\n",
    "            'source_mask': source_mask.to(dtype=torch.long),\n",
    "        }"
   ]
  },
  {
   "cell_type": "code",
   "execution_count": 18,
   "id": "9528ad31",
   "metadata": {},
   "outputs": [],
   "source": [
    "def predict(tokenizer, model, device, loader,):\n",
    "    model.eval()\n",
    "    predictions = []\n",
    "    with torch.no_grad():\n",
    "        for _, data in enumerate(loader, 0):\n",
    "            ids = data['source_ids'].to(device, dtype=torch.long)\n",
    "            mask = data['source_mask'].to(device, dtype=torch.long)\n",
    "\n",
    "            generated_ids = model.generate(\n",
    "                input_ids=ids,\n",
    "                attention_mask=mask,\n",
    "                max_length=400,\n",
    "                num_beams=10,\n",
    "            )\n",
    "            preds = [tokenizer.decode(g, skip_special_tokens=True, clean_up_tokenization_spaces=True) for g in\n",
    "                     generated_ids]\n",
    "            if _ % 100 == 0:\n",
    "                print(f'Completed {_}')\n",
    "            #print(f'Completed {_}')\n",
    "\n",
    "            predictions.extend(preds)\n",
    "\n",
    "    return predictions"
   ]
  },
  {
   "cell_type": "code",
   "execution_count": 19,
   "id": "6c1a08f7",
   "metadata": {},
   "outputs": [],
   "source": [
    "torch.manual_seed(32)  # pytorch random seed\n",
    "np.random.seed(32)  # numpy random seed\n",
    "torch.backends.cudnn.deterministic = True\n",
    "from torch import cuda\n",
    "\n",
    "device = 'cuda' if cuda.is_available() else 'cpu'"
   ]
  },
  {
   "cell_type": "code",
   "execution_count": 42,
   "id": "7112a149",
   "metadata": {},
   "outputs": [],
   "source": [
    "ptpath = \"/data/users/jalabi/YAD/checkpoints/NiLE/small/\"\n",
    "tokenizer = AutoTokenizer.from_pretrained(ptpath)\n",
    "model = T5ForConditionalGeneration.from_pretrained(ptpath)\n",
    "model = model.to(device)"
   ]
  },
  {
   "cell_type": "code",
   "execution_count": 52,
   "id": "2bfaf476",
   "metadata": {},
   "outputs": [],
   "source": [
    "test_set = PredictDataset([\"<en2ig>: Food is good\"], tokenizer, 1024)\n",
    "test_params = {\n",
    "    'batch_size': 1,\n",
    "    'shuffle': False,\n",
    "    'num_workers': 0\n",
    "}\n",
    "test_loader = DataLoader(test_set, **test_params)"
   ]
  },
  {
   "cell_type": "code",
   "execution_count": 53,
   "id": "512d2963",
   "metadata": {},
   "outputs": [
    {
     "name": "stdout",
     "output_type": "stream",
     "text": [
      "Completed 0\n"
     ]
    }
   ],
   "source": [
    "lang_predictions = predict(tokenizer, model, device, test_loader,)"
   ]
  },
  {
   "cell_type": "code",
   "execution_count": 54,
   "id": "cbe27f3e",
   "metadata": {},
   "outputs": [
    {
     "data": {
      "text/plain": [
       "['Nri bụ ihe dị mma.']"
      ]
     },
     "execution_count": 54,
     "metadata": {},
     "output_type": "execute_result"
    }
   ],
   "source": [
    "lang_predictions"
   ]
  },
  {
   "cell_type": "code",
   "execution_count": null,
   "id": "acce8c8e",
   "metadata": {},
   "outputs": [],
   "source": []
  }
 ],
 "metadata": {
  "kernelspec": {
   "display_name": "Python 3 (ipykernel)",
   "language": "python",
   "name": "python3"
  },
  "language_info": {
   "codemirror_mode": {
    "name": "ipython",
    "version": 3
   },
   "file_extension": ".py",
   "mimetype": "text/x-python",
   "name": "python",
   "nbconvert_exporter": "python",
   "pygments_lexer": "ipython3",
   "version": "3.8.13"
  }
 },
 "nbformat": 4,
 "nbformat_minor": 5
}
